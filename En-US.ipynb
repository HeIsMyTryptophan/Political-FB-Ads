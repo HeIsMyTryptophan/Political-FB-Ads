{
 "cells": [
  {
   "cell_type": "code",
   "execution_count": 25,
   "metadata": {},
   "outputs": [],
   "source": [
    "import pandas as pd\n",
    "from ast import literal_eval\n",
    "pd.set_option('display.max_columns', None)\n",
    "pd.set_option('display.max_rows', None)"
   ]
  },
  {
   "cell_type": "code",
   "execution_count": 4,
   "metadata": {},
   "outputs": [],
   "source": [
    "df = pd.read_csv('en-US.csv')"
   ]
  },
  {
   "cell_type": "code",
   "execution_count": 5,
   "metadata": {},
   "outputs": [],
   "source": [
    "df.targets = df.targets.fillna('[]')\n",
    "df.targets = df.targets.str.replace('null','None')"
   ]
  },
  {
   "cell_type": "code",
   "execution_count": 6,
   "metadata": {},
   "outputs": [],
   "source": [
    "df.targets = df.targets.apply(literal_eval)"
   ]
  },
  {
   "cell_type": "code",
   "execution_count": 7,
   "metadata": {},
   "outputs": [],
   "source": [
    "def fix(col):\n",
    "    dd = dict()\n",
    "    for d in col:\n",
    "        values = list(d.values())\n",
    "        if len(values) == 2:\n",
    "            dd[values[0]] = values[1]\n",
    "    return dd"
   ]
  },
  {
   "cell_type": "code",
   "execution_count": 9,
   "metadata": {},
   "outputs": [],
   "source": [
    "df.targets = df.targets.apply(fix)"
   ]
  },
  {
   "cell_type": "code",
   "execution_count": 12,
   "metadata": {},
   "outputs": [],
   "source": [
    "normalized = pd.json_normalize(df.targets)"
   ]
  },
  {
   "cell_type": "code",
   "execution_count": 16,
   "metadata": {},
   "outputs": [],
   "source": [
    "df = df.join(normalized).drop(columns=['targets'])"
   ]
  },
  {
   "cell_type": "code",
   "execution_count": 19,
   "metadata": {},
   "outputs": [],
   "source": [
    "Trump = df[df.title == \"Donald J. Trump\"]\n",
    "Biden = df[df.title == \"Joe Biden\"]\n",
    "Harris = df[df.title == \"Kamala Harris\"]\n",
    "AOC = df[df.title == \"Alexandria Ocasio-Cortez\"]\n",
    "Sanders = df[df.title == \"Bernie Sanders\"]\n",
    "Warren = df[df.title == \"Elizabeth Warren\"]\n",
    "Bloomberg = df[df.title == \"Mike Bloomberg\"]\n",
    "Buttigieg = df[df.title == \"Pete Buttigieg\"]"
   ]
  },
  {
   "cell_type": "code",
   "execution_count": 37,
   "metadata": {},
   "outputs": [],
   "source": [
    "Trump.to_csv(\"Trump.csv\",index=False)\n",
    "Biden.to_csv(\"Biden.csv\",index=False)\n",
    "Harris.to_csv(\"Harris.csv\",index=False)\n",
    "AOC.to_csv(\"AOC.csv\",index=False)\n",
    "Sanders.to_csv(\"Sanders.csv\",index=False)\n",
    "Warren.to_csv(\"Warren.csv\",index=False)\n",
    "Bloomberg.to_csv(\"Bloomberg.csv\",index=False)\n",
    "Buttigieg.to_csv(\"Buttigieg.csv\",index=False)"
   ]
  },
  {
   "cell_type": "code",
   "execution_count": 39,
   "metadata": {},
   "outputs": [],
   "source": [
    "Trump_messages = Trump.message.value_counts()\n",
    "Biden_messages = Biden.message.value_counts()\n",
    "Harris_messages = Harris.message.value_counts()\n",
    "AOC_messages = AOC.message.value_counts()\n",
    "Sanders_messages = Sanders.message.value_counts()\n",
    "Warren_messages = Warren.message.value_counts()\n",
    "Bloomberg_messages = Bloomberg.message.value_counts()\n",
    "Buttigieg_messages = Buttigieg.message.value_counts()\n"
   ]
  },
  {
   "cell_type": "code",
   "execution_count": 58,
   "metadata": {},
   "outputs": [],
   "source": [
    "Trump_messages.to_csv(\"Trump_messages.csv\",index=False)\n",
    "Biden_messages.to_csv(\"Biden_messages.csv\",index=False)\n",
    "Harris_messages.to_csv(\"Harris_messages.csv\",index=False)\n",
    "AOC_messages.to_csv(\"AOC_messages.csv\",index=False)\n",
    "Sanders_messages.to_csv(\"Sanders_messages.csv\",index=False)\n",
    "Warren_messages.to_csv(\"Warren_messages.csv\",index=False)\n",
    "Bloomberg_messages.to_csv(\"Bloomberg_messages.csv\",index=False)\n",
    "Buttigieg_messages.to_csv(\"Buttigieg_messages.csv\",index=False)"
   ]
  },
  {
   "cell_type": "code",
   "execution_count": 46,
   "metadata": {},
   "outputs": [],
   "source": [
    "Trump_messages = pd.DataFrame(Trump_messages)\n",
    "Biden_messages = pd.DataFrame(Biden_messages)\n",
    "Harris_messages = pd.DataFrame(Harris_messages)\n",
    "AOC_messages = pd.DataFrame(AOC_messages)\n",
    "Sanders_messages = pd.DataFrame(Sanders_messages)\n",
    "Warren_messages = pd.DataFrame(Warren_messages)\n",
    "Bloomberg_messages = pd.DataFrame(Bloomberg_messages)\n",
    "Buttigieg_messages = pd.DataFrame(Buttigieg_messages)"
   ]
  },
  {
   "cell_type": "code",
   "execution_count": 57,
   "metadata": {},
   "outputs": [],
   "source": [
    "Trump_messages.reset_index(inplace=True)\n",
    "Biden_messages.reset_index(inplace=True)\n",
    "Harris_messages.reset_index(inplace=True)\n",
    "AOC_messages.reset_index(inplace=True)\n",
    "Sanders_messages.reset_index(inplace=True)\n",
    "Warren_messages.reset_index(inplace=True)\n",
    "Bloomberg_messages.reset_index(inplace=True)\n",
    "Buttigieg_messages.reset_index(inplace=True)"
   ]
  },
  {
   "cell_type": "code",
   "execution_count": 112,
   "metadata": {},
   "outputs": [],
   "source": [
    "filt1 = df['created_at'].str.contains('2017-', na=False)\n",
    "filt2 = df['created_at'].str.contains('2018-', na=False)\n",
    "filt3 = df['created_at'].str.contains('2019-', na=False)\n",
    "filt4 = df['created_at'].str.contains('2020-', na=False)\n",
    "filtR = df['message'].str.contains('Republican', na=False)\n",
    "filtD = df['message'].str.contains('Democrat', na=False)"
   ]
  },
  {
   "cell_type": "code",
   "execution_count": null,
   "metadata": {},
   "outputs": [],
   "source": [
    "Trump_2017 = Trump.loc[filt1]\n",
    "Trump_2018 = Trump.loc[filt2]\n",
    "Trump_2019 = Trump.loc[filt3]\n",
    "Trump_2020 = Trump.loc[filt4]"
   ]
  },
  {
   "cell_type": "code",
   "execution_count": 130,
   "metadata": {},
   "outputs": [],
   "source": [
    "Biden_2017 = Biden.loc[filt1]\n",
    "Biden_2018 = Biden.loc[filt2]\n",
    "Biden_2019 = Biden.loc[filt3]\n",
    "Biden_2020 = Biden.loc[filt4]\n",
    "Biden_R = Biden.loc[filtR]\n",
    "Biden_D = Biden.loc[filtD]"
   ]
  },
  {
   "cell_type": "code",
   "execution_count": null,
   "metadata": {},
   "outputs": [],
   "source": [
    "AOC_2017 = AOC.loc[filt1]\n",
    "AOC_2018 = AOC.loc[filt2]\n",
    "AOC_2019 = AOC.loc[filt3]\n",
    "AOC_2020 = AOC.loc[filt4]\n",
    "AOC_R = AOC.loc[filtR]\n",
    "AOC_D = AOC.loc[filtD]"
   ]
  }
 ],
 "metadata": {
  "kernelspec": {
   "display_name": "Python 3",
   "language": "python",
   "name": "python3"
  },
  "language_info": {
   "codemirror_mode": {
    "name": "ipython",
    "version": 3
   },
   "file_extension": ".py",
   "mimetype": "text/x-python",
   "name": "python",
   "nbconvert_exporter": "python",
   "pygments_lexer": "ipython3",
   "version": "3.8.5"
  }
 },
 "nbformat": 4,
 "nbformat_minor": 4
}
